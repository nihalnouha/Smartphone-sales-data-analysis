{
 "cells": [
  {
   "cell_type": "markdown",
   "id": "cb6177b6-16f2-4b35-b3c9-4e6780723099",
   "metadata": {},
   "source": [
    "Decouverte des données\n"
   ]
  },
  {
   "cell_type": "code",
   "execution_count": 1,
   "id": "9c91bd9d-4ae8-46b9-9461-c194aac2b0b8",
   "metadata": {},
   "outputs": [
    {
     "name": "stderr",
     "output_type": "stream",
     "text": [
      "Matplotlib is building the font cache; this may take a moment.\n"
     ]
    }
   ],
   "source": [
    "#importer les packages \n",
    "import os\n",
    "import pandas as pd\n",
    "import matplotlib.pyplot as plt\n",
    "import seaborn as sns"
   ]
  },
  {
   "cell_type": "code",
   "execution_count": 18,
   "id": "a1f52696-e6be-4cf3-b402-3fe8f3d2fd06",
   "metadata": {},
   "outputs": [
    {
     "name": "stdout",
     "output_type": "stream",
     "text": [
      ".ipynb_checkpoints\n",
      "Sales_April_2019.csv\n",
      "Sales_August_2019.csv\n",
      "Sales_December_2019.csv\n",
      "Sales_February_2019.csv\n",
      "Sales_January_2019.csv\n",
      "Sales_July_2019.csv\n",
      "Sales_June_2019.csv\n",
      "Sales_March_2019.csv\n",
      "Sales_May_2019.csv\n",
      "Sales_November_2019.csv\n",
      "Sales_October_2019.csv\n",
      "Sales_September_2019.csv\n",
      "Untitled.ipynb\n"
     ]
    }
   ],
   "source": [
    "#collecter les noms des fichiers(datasets)\n",
    "files= [file for file in os.listdir(r'C:\\Users\\elhao\\Downloads\\data-sales-main')]\n",
    "for file in files:\n",
    "    print (file)\n",
    "\n",
    "\n"
   ]
  },
  {
   "cell_type": "code",
   "execution_count": 20,
   "id": "53ea38c3-1603-4215-be37-0ecd7a3e4dab",
   "metadata": {},
   "outputs": [
    {
     "name": "stdout",
     "output_type": "stream",
     "text": [
      "      Order ID                     Product Quantity Ordered Price Each  \\\n",
      "0       176558        USB-C Charging Cable                2      11.95   \n",
      "1          NaN                         NaN              NaN        NaN   \n",
      "2       176559  Bose SoundSport Headphones                1      99.99   \n",
      "3       176560                Google Phone                1        600   \n",
      "4       176560            Wired Headphones                1      11.99   \n",
      "...        ...                         ...              ...        ...   \n",
      "11681   259353      AAA Batteries (4-pack)                3       2.99   \n",
      "11682   259354                      iPhone                1        700   \n",
      "11683   259355                      iPhone                1        700   \n",
      "11684   259356      34in Ultrawide Monitor                1     379.99   \n",
      "11685   259357        USB-C Charging Cable                1      11.95   \n",
      "\n",
      "           Order Date                         Purchase Address  \n",
      "0      04/19/19 08:46             917 1st St, Dallas, TX 75001  \n",
      "1                 NaN                                      NaN  \n",
      "2      04/07/19 22:30        682 Chestnut St, Boston, MA 02215  \n",
      "3      04/12/19 14:38     669 Spruce St, Los Angeles, CA 90001  \n",
      "4      04/12/19 14:38     669 Spruce St, Los Angeles, CA 90001  \n",
      "...               ...                                      ...  \n",
      "11681  09/17/19 20:56   840 Highland St, Los Angeles, CA 90001  \n",
      "11682  09/01/19 16:00  216 Dogwood St, San Francisco, CA 94016  \n",
      "11683  09/23/19 07:39     220 12th St, San Francisco, CA 94016  \n",
      "11684  09/19/19 17:30   511 Forest St, San Francisco, CA 94016  \n",
      "11685  09/30/19 00:18   250 Meadow St, San Francisco, CA 94016  \n",
      "\n",
      "[186850 rows x 6 columns]\n"
     ]
    }
   ],
   "source": [
    "path = r'C:\\Users\\elhao\\Downloads\\data-sales-main'\n",
    "\n",
    "# Liste des fichiers CSV dans le répertoire\n",
    "files = [file for file in os.listdir(path) if file.endswith('.csv')]\n",
    "\n",
    "# Créer une DataFrame vide pour stocker toutes les données\n",
    "all_data = pd.DataFrame()\n",
    "\n",
    "# Boucle pour lire chaque fichier CSV et concaténer les données\n",
    "for file in files:\n",
    "    current_data = pd.read_csv(os.path.join(path, file))  # Lire le fichier CSV\n",
    "    all_data = pd.concat([all_data, current_data])  # Concaténer les données dans la DataFrame all_data\n",
    "\n",
    "# Afficher la DataFrame contenant toutes les données\n",
    "print(all_data)"
   ]
  },
  {
   "cell_type": "code",
   "execution_count": 24,
   "id": "2c343c3c-7f71-4ed4-a345-2ec7db4116f8",
   "metadata": {},
   "outputs": [],
   "source": [
    "all_data.to_csv(path+'/all_data.csv',index=False)"
   ]
  },
  {
   "cell_type": "code",
   "execution_count": 25,
   "id": "225361c8-5726-47fe-a736-1bc1cfd255e3",
   "metadata": {},
   "outputs": [
    {
     "data": {
      "text/plain": [
       "Order ID            object\n",
       "Product             object\n",
       "Quantity Ordered    object\n",
       "Price Each          object\n",
       "Order Date          object\n",
       "Purchase Address    object\n",
       "dtype: object"
      ]
     },
     "execution_count": 25,
     "metadata": {},
     "output_type": "execute_result"
    }
   ],
   "source": [
    "all_data.dtypes"
   ]
  },
  {
   "cell_type": "code",
   "execution_count": 26,
   "id": "bf887bad-78f5-41d1-a1ee-41aa948f3df3",
   "metadata": {},
   "outputs": [
    {
     "data": {
      "text/html": [
       "<div>\n",
       "<style scoped>\n",
       "    .dataframe tbody tr th:only-of-type {\n",
       "        vertical-align: middle;\n",
       "    }\n",
       "\n",
       "    .dataframe tbody tr th {\n",
       "        vertical-align: top;\n",
       "    }\n",
       "\n",
       "    .dataframe thead th {\n",
       "        text-align: right;\n",
       "    }\n",
       "</style>\n",
       "<table border=\"1\" class=\"dataframe\">\n",
       "  <thead>\n",
       "    <tr style=\"text-align: right;\">\n",
       "      <th></th>\n",
       "      <th>Order ID</th>\n",
       "      <th>Product</th>\n",
       "      <th>Quantity Ordered</th>\n",
       "      <th>Price Each</th>\n",
       "      <th>Order Date</th>\n",
       "      <th>Purchase Address</th>\n",
       "    </tr>\n",
       "  </thead>\n",
       "  <tbody>\n",
       "    <tr>\n",
       "      <th>0</th>\n",
       "      <td>176558</td>\n",
       "      <td>USB-C Charging Cable</td>\n",
       "      <td>2</td>\n",
       "      <td>11.95</td>\n",
       "      <td>04/19/19 08:46</td>\n",
       "      <td>917 1st St, Dallas, TX 75001</td>\n",
       "    </tr>\n",
       "    <tr>\n",
       "      <th>1</th>\n",
       "      <td>NaN</td>\n",
       "      <td>NaN</td>\n",
       "      <td>NaN</td>\n",
       "      <td>NaN</td>\n",
       "      <td>NaN</td>\n",
       "      <td>NaN</td>\n",
       "    </tr>\n",
       "    <tr>\n",
       "      <th>2</th>\n",
       "      <td>176559</td>\n",
       "      <td>Bose SoundSport Headphones</td>\n",
       "      <td>1</td>\n",
       "      <td>99.99</td>\n",
       "      <td>04/07/19 22:30</td>\n",
       "      <td>682 Chestnut St, Boston, MA 02215</td>\n",
       "    </tr>\n",
       "    <tr>\n",
       "      <th>3</th>\n",
       "      <td>176560</td>\n",
       "      <td>Google Phone</td>\n",
       "      <td>1</td>\n",
       "      <td>600</td>\n",
       "      <td>04/12/19 14:38</td>\n",
       "      <td>669 Spruce St, Los Angeles, CA 90001</td>\n",
       "    </tr>\n",
       "    <tr>\n",
       "      <th>4</th>\n",
       "      <td>176560</td>\n",
       "      <td>Wired Headphones</td>\n",
       "      <td>1</td>\n",
       "      <td>11.99</td>\n",
       "      <td>04/12/19 14:38</td>\n",
       "      <td>669 Spruce St, Los Angeles, CA 90001</td>\n",
       "    </tr>\n",
       "  </tbody>\n",
       "</table>\n",
       "</div>"
      ],
      "text/plain": [
       "  Order ID                     Product Quantity Ordered Price Each  \\\n",
       "0   176558        USB-C Charging Cable                2      11.95   \n",
       "1      NaN                         NaN              NaN        NaN   \n",
       "2   176559  Bose SoundSport Headphones                1      99.99   \n",
       "3   176560                Google Phone                1        600   \n",
       "4   176560            Wired Headphones                1      11.99   \n",
       "\n",
       "       Order Date                      Purchase Address  \n",
       "0  04/19/19 08:46          917 1st St, Dallas, TX 75001  \n",
       "1             NaN                                   NaN  \n",
       "2  04/07/19 22:30     682 Chestnut St, Boston, MA 02215  \n",
       "3  04/12/19 14:38  669 Spruce St, Los Angeles, CA 90001  \n",
       "4  04/12/19 14:38  669 Spruce St, Los Angeles, CA 90001  "
      ]
     },
     "execution_count": 26,
     "metadata": {},
     "output_type": "execute_result"
    }
   ],
   "source": [
    "all_data.head()"
   ]
  },
  {
   "cell_type": "code",
   "execution_count": 27,
   "id": "33148cd7-4119-4e10-a9fd-44c3d551692c",
   "metadata": {},
   "outputs": [
    {
     "data": {
      "text/plain": [
       "Order ID            545\n",
       "Product             545\n",
       "Quantity Ordered    545\n",
       "Price Each          545\n",
       "Order Date          545\n",
       "Purchase Address    545\n",
       "dtype: int64"
      ]
     },
     "execution_count": 27,
     "metadata": {},
     "output_type": "execute_result"
    }
   ],
   "source": [
    "all_data.isnull().sum()\n"
   ]
  },
  {
   "cell_type": "code",
   "execution_count": 28,
   "id": "53874e79-2052-4d48-be27-24927009e21c",
   "metadata": {},
   "outputs": [
    {
     "data": {
      "text/plain": [
       "(186305, 6)"
      ]
     },
     "execution_count": 28,
     "metadata": {},
     "output_type": "execute_result"
    }
   ],
   "source": [
    "#supprimer les valeurs manquantes\n",
    "all_data=all_data.dropna(how='all')\n",
    "all_data.shape"
   ]
  },
  {
   "cell_type": "code",
   "execution_count": null,
   "id": "6aaf5c03-6313-49ee-98c8-93bf0f30f426",
   "metadata": {},
   "outputs": [],
   "source": []
  }
 ],
 "metadata": {
  "kernelspec": {
   "display_name": "Python 3 (ipykernel)",
   "language": "python",
   "name": "python3"
  },
  "language_info": {
   "codemirror_mode": {
    "name": "ipython",
    "version": 3
   },
   "file_extension": ".py",
   "mimetype": "text/x-python",
   "name": "python",
   "nbconvert_exporter": "python",
   "pygments_lexer": "ipython3",
   "version": "3.11.7"
  }
 },
 "nbformat": 4,
 "nbformat_minor": 5
}
